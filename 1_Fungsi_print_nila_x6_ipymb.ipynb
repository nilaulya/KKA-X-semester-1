{
  "nbformat": 4,
  "nbformat_minor": 0,
  "metadata": {
    "colab": {
      "provenance": [],
      "authorship_tag": "ABX9TyN2A7UBLR3t+X77iJ5hjQW+",
      "include_colab_link": true
    },
    "kernelspec": {
      "name": "python3",
      "display_name": "Python 3"
    },
    "language_info": {
      "name": "python"
    }
  },
  "cells": [
    {
      "cell_type": "markdown",
      "metadata": {
        "id": "view-in-github",
        "colab_type": "text"
      },
      "source": [
        "<a href=\"https://colab.research.google.com/github/nilaulya/KKA-X-semester-1/blob/main/1_Fungsi_print_nila_x6_ipymb.ipynb\" target=\"_parent\"><img src=\"https://colab.research.google.com/assets/colab-badge.svg\" alt=\"Open In Colab\"/></a>"
      ]
    },
    {
      "cell_type": "markdown",
      "source": [
        "nama:nila syarifatul ulya\n",
        "kelas:x.6\n",
        "absen:27"
      ],
      "metadata": {
        "id": "RLoaOvvdtC5x"
      }
    },
    {
      "cell_type": "code",
      "source": [
        "print(\"halo dunia\")"
      ],
      "metadata": {
        "colab": {
          "base_uri": "https://localhost:8080/"
        },
        "id": "jztTvKOj0WZg",
        "outputId": "6fbbb631-0359-4fb2-9e10-f8aee934cf4c"
      },
      "execution_count": null,
      "outputs": [
        {
          "output_type": "stream",
          "name": "stdout",
          "text": [
            "halo dunia\n"
          ]
        }
      ]
    },
    {
      "cell_type": "code",
      "source": [
        "print(\"\"\"\n",
        "nama:nila syarifatul ulya\n",
        "kelas:x.6\n",
        "absen:27\n",
        "\"\"\")"
      ],
      "metadata": {
        "colab": {
          "base_uri": "https://localhost:8080/"
        },
        "id": "Z-UGXnLf0edm",
        "outputId": "460880ea-7a9b-4e29-c046-db2ee1d669ec"
      },
      "execution_count": null,
      "outputs": [
        {
          "output_type": "stream",
          "name": "stdout",
          "text": [
            "\n",
            "nama:nila syarifatul ulya\n",
            "kelas:x.6\n",
            "absen:27\n",
            "\n"
          ]
        }
      ]
    },
    {
      "cell_type": "code",
      "source": [
        "print(\"\"\"\n",
        "halo dunia\n",
        "hari ini saya belajar bahasa python\n",
        "\"\"\")"
      ],
      "metadata": {
        "colab": {
          "base_uri": "https://localhost:8080/"
        },
        "id": "yxVyk0We0vHP",
        "outputId": "67777f93-bdd6-47c4-afb8-8f2372d7e538"
      },
      "execution_count": null,
      "outputs": [
        {
          "output_type": "stream",
          "name": "stdout",
          "text": [
            "\n",
            "halo dunia\n",
            "hari ini saya belajar bahasa python\n",
            "\n"
          ]
        }
      ]
    },
    {
      "cell_type": "code",
      "source": [
        "Nama =\"nila syarifatul ulya\"\n",
        "usia =15\n",
        "\n",
        "print(Nama)\n",
        "print(usia)"
      ],
      "metadata": {
        "colab": {
          "base_uri": "https://localhost:8080/"
        },
        "id": "F91WiIMm16sG",
        "outputId": "22011482-ed56-4b8a-e8c6-0daa4d66892c"
      },
      "execution_count": null,
      "outputs": [
        {
          "output_type": "stream",
          "name": "stdout",
          "text": [
            "nila syarifatul ulya\n",
            "15\n"
          ]
        }
      ]
    },
    {
      "cell_type": "code",
      "source": [
        "warna_favorit =\"pink\"\n",
        "berat_badan =44\n",
        "\n",
        "print(warna_favorit)\n",
        "print(berat_badan)"
      ],
      "metadata": {
        "colab": {
          "base_uri": "https://localhost:8080/"
        },
        "id": "qKrVWeAt3b-U",
        "outputId": "698dacba-933b-4d94-edea-81c8e6c53a68"
      },
      "execution_count": null,
      "outputs": [
        {
          "output_type": "stream",
          "name": "stdout",
          "text": [
            "pink\n",
            "44\n"
          ]
        }
      ]
    },
    {
      "cell_type": "code",
      "source": [
        "print(\"Nama: \" +Nama)"
      ],
      "metadata": {
        "colab": {
          "base_uri": "https://localhost:8080/"
        },
        "id": "1PMl6Vxm5P0a",
        "outputId": "7bb086fe-7ad6-4814-e5ee-3732ffa19410"
      },
      "execution_count": null,
      "outputs": [
        {
          "output_type": "stream",
          "name": "stdout",
          "text": [
            "Nama: nila syarifatul ulya\n"
          ]
        }
      ]
    },
    {
      "cell_type": "markdown",
      "source": [],
      "metadata": {
        "id": "47jKX_Yc7n-I"
      }
    },
    {
      "cell_type": "code",
      "source": [
        "print (\"berat_badan : \" + str (berat_badan))"
      ],
      "metadata": {
        "colab": {
          "base_uri": "https://localhost:8080/"
        },
        "id": "jClWrd546GTK",
        "outputId": "a59e20a2-4b75-4c62-c735-036862d10790"
      },
      "execution_count": null,
      "outputs": [
        {
          "output_type": "stream",
          "name": "stdout",
          "text": [
            "berat_badan : 44\n"
          ]
        }
      ]
    },
    {
      "cell_type": "markdown",
      "source": [
        "Escape character"
      ],
      "metadata": {
        "id": "RW4QTKfE_ccA"
      }
    },
    {
      "cell_type": "code",
      "source": [
        "print(\"\"\"nama:nila syarifatul ulya\n",
        "kelas:x.6\n",
        "absen:27 \"\"\")"
      ],
      "metadata": {
        "colab": {
          "base_uri": "https://localhost:8080/"
        },
        "id": "8lkD3L7x-CDb",
        "outputId": "c4831eaf-cc76-4530-fe21-c0ee94a70181"
      },
      "execution_count": null,
      "outputs": [
        {
          "output_type": "stream",
          "name": "stdout",
          "text": [
            "nama:nila syarifatul ulya\n",
            "kelas:x.6\n",
            "absen:27 \n"
          ]
        }
      ]
    },
    {
      "cell_type": "code",
      "source": [
        "print(\"nama:nila syarifatul ulya\")\n",
        "print(\"kelas:x.6\")\n",
        "print(\"absen:27\")"
      ],
      "metadata": {
        "colab": {
          "base_uri": "https://localhost:8080/"
        },
        "id": "Kghf7ccRAFs5",
        "outputId": "62b9df7d-7555-4aa0-9b3c-0959604b59f0"
      },
      "execution_count": null,
      "outputs": [
        {
          "output_type": "stream",
          "name": "stdout",
          "text": [
            "nama:nila syarifatul ulya\n",
            "kelas:x.6\n",
            "absen:27\n"
          ]
        }
      ]
    },
    {
      "cell_type": "code",
      "source": [
        "print(\"nama\\t\\t:nila syarifatul ulya\\nkelas\\t\\t:x.6\\nno absen\\t:27\")"
      ],
      "metadata": {
        "id": "cscKvdUNAmdK",
        "colab": {
          "base_uri": "https://localhost:8080/"
        },
        "outputId": "bea520ef-b2c8-46bc-c17d-3b4a48a8972c"
      },
      "execution_count": null,
      "outputs": [
        {
          "output_type": "stream",
          "name": "stdout",
          "text": [
            "nama\t\t:nila syarifatul ulya\n",
            "kelas\t\t:x.6\n",
            "no absen\t:27\n"
          ]
        }
      ]
    },
    {
      "cell_type": "code",
      "source": [
        "print(\"nama\\t\\t:ja'far shodiq\\nkelas\\t\\t: x.6\\nno.absen\\t:29\")"
      ],
      "metadata": {
        "colab": {
          "base_uri": "https://localhost:8080/"
        },
        "id": "uyF6prvj2jnx",
        "outputId": "ef912c28-e8c1-4430-e0ea-edbccbf7a175"
      },
      "execution_count": null,
      "outputs": [
        {
          "output_type": "stream",
          "name": "stdout",
          "text": [
            "nama\t\t:ja'far shodiq\n",
            "kelas\t\t: x.6\n",
            "no.absen\t:29\n"
          ]
        }
      ]
    },
    {
      "cell_type": "code",
      "source": [
        "print(\"lokasi file tugas KKA:c:\\KKA\\tugas nila\")"
      ],
      "metadata": {
        "colab": {
          "base_uri": "https://localhost:8080/"
        },
        "id": "dKtRbE-XMRPQ",
        "outputId": "ac1ac0b1-22f1-4344-f363-ee261c7d6d98"
      },
      "execution_count": null,
      "outputs": [
        {
          "output_type": "stream",
          "name": "stdout",
          "text": [
            "lokasi file tugas KKA:c:\\KKA\tugas nila\n"
          ]
        },
        {
          "output_type": "stream",
          "name": "stderr",
          "text": [
            "<>:1: SyntaxWarning: invalid escape sequence '\\K'\n",
            "<>:1: SyntaxWarning: invalid escape sequence '\\K'\n",
            "/tmp/ipython-input-783559310.py:1: SyntaxWarning: invalid escape sequence '\\K'\n",
            "  print(\"lokasi file tugas KKA:c:\\KKA\\tugas nila\")\n"
          ]
        }
      ]
    },
    {
      "cell_type": "code",
      "source": [
        "print(\"bu shinta berkata,\\\"tolong perhatikan ke layar TV!\\\".\")"
      ],
      "metadata": {
        "colab": {
          "base_uri": "https://localhost:8080/"
        },
        "id": "GsK4_a7lzINR",
        "outputId": "733f9181-795b-447c-bc1b-bc5eed98714d"
      },
      "execution_count": null,
      "outputs": [
        {
          "output_type": "stream",
          "name": "stdout",
          "text": [
            "bu shinta berkata,\"tolong perhatikan ke layar TV!\".\n"
          ]
        }
      ]
    },
    {
      "cell_type": "code",
      "source": [
        "print('bu shinta berkata, \"tolong perhatikan ke layar TV! \".')"
      ],
      "metadata": {
        "id": "0ehbg2Wu0R-X",
        "colab": {
          "base_uri": "https://localhost:8080/"
        },
        "outputId": "78a1bdd6-b8e0-44d3-b78d-7abc5654bf4d"
      },
      "execution_count": null,
      "outputs": [
        {
          "output_type": "stream",
          "name": "stdout",
          "text": [
            "bu shinta berkata, \"tolong perhatikan ke layar TV! \".\n"
          ]
        }
      ]
    },
    {
      "cell_type": "markdown",
      "source": [
        "#paramenter fungsi print"
      ],
      "metadata": {
        "id": "SeY4NUJe3eHd"
      }
    },
    {
      "cell_type": "code",
      "source": [
        "tahun=2000\n",
        "bulan=\"februari\"\n",
        "tanggal=18\n",
        "\n",
        "print(tahun, end='-')\n",
        "print(bulan, end='-')\n",
        "print(tanggal)"
      ],
      "metadata": {
        "colab": {
          "base_uri": "https://localhost:8080/"
        },
        "id": "LJkxean83olp",
        "outputId": "fa417dc4-e961-4a8f-d123-f2ebc3cf6996"
      },
      "execution_count": null,
      "outputs": [
        {
          "output_type": "stream",
          "name": "stdout",
          "text": [
            "2000-februari-18\n"
          ]
        }
      ]
    },
    {
      "cell_type": "code",
      "source": [
        "print(tanggal,end=\"/\")\n",
        "print(bulan,end=\"/\")\n",
        "print(tahun)"
      ],
      "metadata": {
        "colab": {
          "base_uri": "https://localhost:8080/"
        },
        "id": "UfnVHXU040tR",
        "outputId": "268784c1-5eb6-47e6-a539-a13d90f1c47e"
      },
      "execution_count": null,
      "outputs": [
        {
          "output_type": "stream",
          "name": "stdout",
          "text": [
            "18/februari/2000\n"
          ]
        }
      ]
    },
    {
      "cell_type": "code",
      "source": [
        "nama_siswa_1 =(\"fida\")\n",
        "nama_siswa_2 =(\"aji\")\n",
        "nama_siswa_3 =(\"hadziq\")\n",
        "\n",
        "#aji~hadziq~fida\n",
        "\n",
        "print(nama_siswa_2, end=\"~\")\n",
        "print(nama_siswa_3, end=\"~\")\n",
        "print(nama_siswa_1)"
      ],
      "metadata": {
        "colab": {
          "base_uri": "https://localhost:8080/"
        },
        "id": "_FhDxfwa8yrO",
        "outputId": "f013b9b5-dc14-4a51-979f-de0ee0b95a14"
      },
      "execution_count": null,
      "outputs": [
        {
          "output_type": "stream",
          "name": "stdout",
          "text": [
            "aji~hadziq~fida\n"
          ]
        }
      ]
    },
    {
      "cell_type": "code",
      "source": [
        "print(nama_siswa_3, nama_siswa_1, nama_siswa_2)"
      ],
      "metadata": {
        "colab": {
          "base_uri": "https://localhost:8080/",
          "height": 245
        },
        "id": "_Ix6pfp-Bgkj",
        "outputId": "3bc734ab-1e28-4887-cb30-821210c2aaa6"
      },
      "execution_count": null,
      "outputs": [
        {
          "output_type": "error",
          "ename": "NameError",
          "evalue": "name 'nama_siswa_3' is not defined",
          "traceback": [
            "\u001b[0;31m---------------------------------------------------------------------------\u001b[0m",
            "\u001b[0;31mNameError\u001b[0m                                 Traceback (most recent call last)",
            "\u001b[0;32m/tmp/ipython-input-2113623572.py\u001b[0m in \u001b[0;36m<cell line: 0>\u001b[0;34m()\u001b[0m\n\u001b[0;32m----> 1\u001b[0;31m \u001b[0mprint\u001b[0m\u001b[0;34m(\u001b[0m\u001b[0mnama_siswa_3\u001b[0m\u001b[0;34m,\u001b[0m \u001b[0mnama_siswa_1\u001b[0m\u001b[0;34m,\u001b[0m \u001b[0mnama_siswa_2\u001b[0m\u001b[0;34m)\u001b[0m\u001b[0;34m\u001b[0m\u001b[0;34m\u001b[0m\u001b[0m\n\u001b[0m",
            "\u001b[0;31mNameError\u001b[0m: name 'nama_siswa_3' is not defined"
          ]
        }
      ]
    },
    {
      "cell_type": "code",
      "source": [
        "print(nama_siswa_3, nama_siswa_1, nama_siswa_2)"
      ],
      "metadata": {
        "colab": {
          "base_uri": "https://localhost:8080/",
          "height": 245
        },
        "id": "Ky5B3ZJlB-Pz",
        "outputId": "3d57fabc-9008-4dd5-c965-810f468b2919"
      },
      "execution_count": null,
      "outputs": [
        {
          "output_type": "error",
          "ename": "NameError",
          "evalue": "name 'nama_siswa_3' is not defined",
          "traceback": [
            "\u001b[0;31m---------------------------------------------------------------------------\u001b[0m",
            "\u001b[0;31mNameError\u001b[0m                                 Traceback (most recent call last)",
            "\u001b[0;32m/tmp/ipython-input-2113623572.py\u001b[0m in \u001b[0;36m<cell line: 0>\u001b[0;34m()\u001b[0m\n\u001b[0;32m----> 1\u001b[0;31m \u001b[0mprint\u001b[0m\u001b[0;34m(\u001b[0m\u001b[0mnama_siswa_3\u001b[0m\u001b[0;34m,\u001b[0m \u001b[0mnama_siswa_1\u001b[0m\u001b[0;34m,\u001b[0m \u001b[0mnama_siswa_2\u001b[0m\u001b[0;34m)\u001b[0m\u001b[0;34m\u001b[0m\u001b[0;34m\u001b[0m\u001b[0m\n\u001b[0m",
            "\u001b[0;31mNameError\u001b[0m: name 'nama_siswa_3' is not defined"
          ]
        }
      ]
    },
    {
      "cell_type": "code",
      "source": [
        "print(nama_siswa_2, nama_siswa_1, nama_siswa_3, nama_siswa_2, sep=\"-\")"
      ],
      "metadata": {
        "colab": {
          "base_uri": "https://localhost:8080/",
          "height": 263
        },
        "id": "oZCzm6oVCaHy",
        "outputId": "ebef0716-59e7-4d06-c76b-c2d4625534d8"
      },
      "execution_count": null,
      "outputs": [
        {
          "output_type": "error",
          "ename": "NameError",
          "evalue": "name 'nama_siswa_2' is not defined",
          "traceback": [
            "\u001b[0;31m---------------------------------------------------------------------------\u001b[0m",
            "\u001b[0;31mNameError\u001b[0m                                 Traceback (most recent call last)",
            "\u001b[0;32m/tmp/ipython-input-2532235725.py\u001b[0m in \u001b[0;36m<cell line: 0>\u001b[0;34m()\u001b[0m\n\u001b[0;32m----> 1\u001b[0;31m \u001b[0mprint\u001b[0m\u001b[0;34m(\u001b[0m\u001b[0mnama_siswa_2\u001b[0m\u001b[0;34m,\u001b[0m \u001b[0mnama_siswa_1\u001b[0m\u001b[0;34m,\u001b[0m \u001b[0mnama_siswa_3\u001b[0m\u001b[0;34m,\u001b[0m \u001b[0mnama_siswa_2\u001b[0m\u001b[0;34m,\u001b[0m \u001b[0msep\u001b[0m\u001b[0;34m=\u001b[0m\u001b[0;34m\"-\"\u001b[0m\u001b[0;34m)\u001b[0m\u001b[0;34m\u001b[0m\u001b[0;34m\u001b[0m\u001b[0m\n\u001b[0m",
            "\u001b[0;31mNameError\u001b[0m: name 'nama_siswa_2' is not defined"
          ]
        }
      ]
    }
  ]
}